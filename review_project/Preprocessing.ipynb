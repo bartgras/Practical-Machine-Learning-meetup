{
 "cells": [
  {
   "cell_type": "markdown",
   "metadata": {},
   "source": [
    "# Preprocessing"
   ]
  },
  {
   "cell_type": "markdown",
   "metadata": {},
   "source": [
    "### Setup\n",
    "- This code assumes the data is in 'train' and 'test' folders in the same directory as the notebook. \n",
    "- Additionally, for this project the training data is assumed to be placed in ten subdirectories (representing the 10 classes) when it is downloaded."
   ]
  },
  {
   "cell_type": "code",
   "execution_count": 11,
   "metadata": {
    "collapsed": false
   },
   "outputs": [],
   "source": [
    "import os, sys\n",
    "current_dir = os.getcwd()\n",
    "LESSON_HOME_DIR = current_dir\n",
    "DATA_HOME_DIR = current_dir + '/data'"
   ]
  },
  {
   "cell_type": "code",
   "execution_count": 12,
   "metadata": {
    "collapsed": false
   },
   "outputs": [
    {
     "name": "stdout",
     "output_type": "stream",
     "text": [
      "/home/ubuntu/driver\n"
     ]
    }
   ],
   "source": [
    "sys.path.insert(1, os.path.join(sys.path[0], '..'))\n",
    "\n",
    "%cd $LESSON_HOME_DIR\n",
    "#import modules\n",
    "from utils import *\n",
    "import vgg16; reload(vgg16)\n",
    "from vgg16 import Vgg16\n",
    "from shutil import copyfile\n",
    "import numpy as np\n",
    "from glob import glob\n",
    "\n",
    "%matplotlib inline"
   ]
  },
  {
   "cell_type": "code",
   "execution_count": 13,
   "metadata": {
    "collapsed": false
   },
   "outputs": [
    {
     "name": "stdout",
     "output_type": "stream",
     "text": [
      "/home/ubuntu/driver/data\n"
     ]
    }
   ],
   "source": [
    "# Create directory structure:\n",
    "%cd $DATA_HOME_DIR\n",
    "\n",
    "%mkdir valid\n",
    "%mkdir results\n",
    "%mkdir -p sample/train\n",
    "%mkdir -p sample/test\n",
    "%mkdir -p sample/valid\n",
    "%mkdir -p sample/results\n",
    "%mkdir -p test/unknown"
   ]
  },
  {
   "cell_type": "code",
   "execution_count": 16,
   "metadata": {
    "collapsed": false
   },
   "outputs": [
    {
     "name": "stdout",
     "output_type": "stream",
     "text": [
      "/home/ubuntu/driver/data/valid\n"
     ]
    }
   ],
   "source": [
    "# Create subdirectory structure for the validation data (10 class labels):\n",
    "\n",
    "%cd $DATA_HOME_DIR/valid\n",
    "for i in range(10):\n",
    "    os.mkdir(os.path.expanduser(DATA_HOME_DIR + '/valid/c' + str(i)))\n",
    "    "
   ]
  },
  {
   "cell_type": "code",
   "execution_count": 17,
   "metadata": {
    "collapsed": true
   },
   "outputs": [],
   "source": [
    "# Repeat this process so we have subdirectories for our sample training and validation sets.\n",
    "for i in range(10):\n",
    "    os.mkdir(os.path.expanduser(DATA_HOME_DIR + '/sample/valid/c' + str(i)))\n",
    "    os.mkdir(os.path.expanduser(DATA_HOME_DIR + '/sample/train/c' + str(i)))"
   ]
  },
  {
   "cell_type": "markdown",
   "metadata": {},
   "source": [
    "### Create validation set"
   ]
  },
  {
   "cell_type": "code",
   "execution_count": 21,
   "metadata": {
    "collapsed": false
   },
   "outputs": [
    {
     "name": "stdout",
     "output_type": "stream",
     "text": [
      "/home/ubuntu/driver/train\n",
      "/home/ubuntu/driver/train/c0\n",
      "/home/ubuntu/driver/train/c1\n",
      "/home/ubuntu/driver/train/c2\n",
      "/home/ubuntu/driver/train/c3\n",
      "/home/ubuntu/driver/train/c4\n",
      "/home/ubuntu/driver/train/c5\n",
      "/home/ubuntu/driver/train/c6\n",
      "/home/ubuntu/driver/train/c7\n",
      "/home/ubuntu/driver/train/c8\n",
      "/home/ubuntu/driver/train/c9\n"
     ]
    }
   ],
   "source": [
    "# Move 700 randomly chosen image files from each training data class to create validation set:\n",
    "\n",
    "%cd $DATA_HOME_DIR/train\n",
    "for i in range(10):\n",
    "    class_path = DATA_HOME_DIR + '/train/c' + str(i)\n",
    "    %cd $class_path\n",
    "    g = glob('*.jpg')\n",
    "    shuf = np.random.permutation(g)\n",
    "    for j in range(700):\n",
    "        os.rename(shuf[j], DATA_HOME_DIR + '/valid/' + ('c' + str(i) + '/') + shuf[j])\n",
    "        #print(DATA_HOME_DIR + '/valid/' + ('c' + str(i) + '/') + shuf[j])"
   ]
  },
  {
   "cell_type": "markdown",
   "metadata": {},
   "source": [
    "### Create sample data set (w/validation and test data)"
   ]
  },
  {
   "cell_type": "code",
   "execution_count": 18,
   "metadata": {
    "collapsed": true
   },
   "outputs": [],
   "source": [
    "from shutil import copyfile"
   ]
  },
  {
   "cell_type": "code",
   "execution_count": null,
   "metadata": {
    "collapsed": true
   },
   "outputs": [],
   "source": [
    "# Create sample data. Includes copying files from both train and valid to create miniature subsets of each.\n",
    "\n",
    "for i in range(10):\n",
    "    train_class_path = DATA_HOME_DIR + '/train/c' + str(i)\n",
    "    valid_class_path = DATA_HOME_DIR + '/valid/c' + str(i)\n",
    "    %cd $train_class_path\n",
    "    g = glob('*.jpg')\n",
    "    shuf = np.random.permutation(g)\n",
    "    for j in range(10):\n",
    "        copyfile(shuf[j], DATA_HOME_DIR+'/sample/train/c' + str(i) + '/' + shuf[j])\n",
    "        #print DATA_HOME_DIR+'/sample/train/c' + str(i) + '/' + shuf[j]\n",
    "    %cd $valid_class_path\n",
    "    g = glob('*.jpg')\n",
    "    shuf = np.random.permutation(g)\n",
    "    for j in range(3):\n",
    "        copyfile(shuf[j], DATA_HOME_DIR+'/sample/valid/c' + str(i) + '/' + shuf[j])\n",
    "        #print DATA_HOME_DIR+'/sample/valid/c' + str(i) + '/' + shuf[j]"
   ]
  },
  {
   "cell_type": "code",
   "execution_count": null,
   "metadata": {
    "collapsed": true
   },
   "outputs": [],
   "source": [
    "# We need to move the test data to an 'unknown' directory so vgg can read it.\n",
    "\n",
    "%cd $DATA_HOME_DIR/test\n",
    "%mv *.jpg unknown/\n",
    "\n",
    "%cd $DATA_HOME_DIR/sample/test\n",
    "%mkdir unknown\n",
    "%mv *.jpg unknown/"
   ]
  },
  {
   "cell_type": "markdown",
   "metadata": {},
   "source": [
    "### Handover to model"
   ]
  },
  {
   "cell_type": "markdown",
   "metadata": {},
   "source": [
    "#### Make batches generators for training and valid data."
   ]
  },
  {
   "cell_type": "code",
   "execution_count": 20,
   "metadata": {
    "collapsed": false
   },
   "outputs": [
    {
     "name": "stdout",
     "output_type": "stream",
     "text": [
      "/home/ubuntu/driver\n"
     ]
    }
   ],
   "source": [
    "# Load vgg helper class.\n",
    "%cd $LESSON_HOME_DIR\n",
    "\n",
    "vgg = Vgg16()\n",
    "batch_size = 64"
   ]
  },
  {
   "cell_type": "markdown",
   "metadata": {},
   "source": [
    "#### Set up path variables"
   ]
  },
  {
   "cell_type": "code",
   "execution_count": 19,
   "metadata": {
    "collapsed": false
   },
   "outputs": [],
   "source": [
    "#Use the second path variable for testing on a small sample.\n",
    "\n",
    "path = DATA_HOME_DIR \n",
    "#path = DATA_HOME_DIR + '/sample'\n",
    "\n",
    "test_path = DATA_HOME_DIR + '/test/'\n",
    "results_path=DATA_HOME_DIR + '/results/'\n",
    "valid_path = path + '/valid/'\n",
    "train_path = path + '/train/'"
   ]
  },
  {
   "cell_type": "code",
   "execution_count": 5,
   "metadata": {
    "collapsed": false
   },
   "outputs": [
    {
     "data": {
      "text/plain": [
       "array([[[[  43.,   40.,   41., ...,  151.,  214.,  163.],\n",
       "         [  40.,   37.,   39., ...,   60.,   45.,    0.],\n",
       "         [  36.,   34.,   37., ...,  218.,  218.,   85.],\n",
       "         ..., \n",
       "         [  91.,   86.,   73., ...,   12.,   15.,   16.],\n",
       "         [   0.,   49.,    0., ...,   11.,    9.,    9.],\n",
       "         [   2.,    0.,   11., ...,    6.,   11.,   11.]],\n",
       "\n",
       "        [[  52.,   49.,   50., ...,  182.,  255.,  221.],\n",
       "         [  48.,   45.,   47., ...,   95.,   83.,   21.],\n",
       "         [  44.,   42.,   45., ...,  255.,  247.,  104.],\n",
       "         ..., \n",
       "         [ 135.,  126.,  101., ...,   11.,   14.,   15.],\n",
       "         [  26.,   75.,    9., ...,   10.,    8.,    8.],\n",
       "         [  18.,    6.,   15., ...,    5.,   10.,   10.]],\n",
       "\n",
       "        [[  35.,   32.,   33., ...,  140.,  219.,  181.],\n",
       "         [  33.,   30.,   32., ...,   55.,   46.,    0.],\n",
       "         [  33.,   31.,   34., ...,  221.,  217.,   84.],\n",
       "         ..., \n",
       "         [ 138.,  128.,  102., ...,    9.,   12.,   13.],\n",
       "         [  28.,   76.,    9., ...,    8.,    6.,    6.],\n",
       "         [  17.,    6.,   16., ...,    3.,    8.,    8.]]],\n",
       "\n",
       "\n",
       "       [[[  43.,   41.,   40., ...,  238.,  249.,  252.],\n",
       "         [  43.,   41.,   40., ...,  234.,  246.,  253.],\n",
       "         [  44.,   42.,   41., ...,  229.,  241.,  249.],\n",
       "         ..., \n",
       "         [  25.,   24.,   24., ...,   37.,   40.,   62.],\n",
       "         [  24.,   22.,   23., ...,   37.,   33.,   62.],\n",
       "         [  19.,   24.,   26., ...,   38.,   33.,   52.]],\n",
       "\n",
       "        [[  48.,   46.,   47., ...,  254.,  255.,  253.],\n",
       "         [  48.,   46.,   47., ...,  252.,  255.,  255.],\n",
       "         [  49.,   47.,   48., ...,  255.,  255.,  255.],\n",
       "         ..., \n",
       "         [  34.,   33.,   33., ...,   38.,   46.,   72.],\n",
       "         [  33.,   31.,   32., ...,   39.,   39.,   75.],\n",
       "         [  28.,   33.,   35., ...,   40.,   39.,   67.]],\n",
       "\n",
       "        [[  41.,   39.,   39., ...,  241.,  251.,  255.],\n",
       "         [  41.,   39.,   39., ...,  236.,  247.,  252.],\n",
       "         [  42.,   40.,   40., ...,  230.,  238.,  245.],\n",
       "         ..., \n",
       "         [  31.,   30.,   30., ...,   56.,   60.,   82.],\n",
       "         [  30.,   28.,   29., ...,   54.,   51.,   84.],\n",
       "         [  25.,   30.,   32., ...,   55.,   51.,   74.]]],\n",
       "\n",
       "\n",
       "       [[[  11.,   17.,   16., ...,  183.,  183.,    0.],\n",
       "         [  18.,   18.,   17., ...,  171.,  184.,    0.],\n",
       "         [  27.,   25.,   23., ...,  156.,  167.,   49.],\n",
       "         ..., \n",
       "         [   8.,   17.,   28., ...,    9.,   16.,   13.],\n",
       "         [  25.,   29.,   43., ...,   10.,   11.,   13.],\n",
       "         [  31.,   37.,   59., ...,   11.,   14.,    9.]],\n",
       "\n",
       "        [[  23.,   29.,   29., ...,  254.,  247.,   11.],\n",
       "         [  25.,   28.,   27., ...,  252.,  255.,   41.],\n",
       "         [  30.,   30.,   28., ...,  255.,  255.,  113.],\n",
       "         ..., \n",
       "         [   5.,   14.,   29., ...,    8.,   15.,   12.],\n",
       "         [  23.,   27.,   44., ...,    9.,   10.,   12.],\n",
       "         [  28.,   35.,   62., ...,   10.,   13.,    8.]],\n",
       "\n",
       "        [[  13.,   19.,   19., ...,  255.,  247.,   17.],\n",
       "         [  17.,   19.,   18., ...,  253.,  255.,   44.],\n",
       "         [  23.,   23.,   21., ...,  252.,  255.,  112.],\n",
       "         ..., \n",
       "         [   0.,    5.,   15., ...,    6.,   11.,    7.],\n",
       "         [  10.,   14.,   28., ...,    7.,    6.,    7.],\n",
       "         [  13.,   20.,   43., ...,    8.,    9.,    3.]]],\n",
       "\n",
       "\n",
       "       ..., \n",
       "       [[[  37.,   37.,   37., ...,  203.,  171.,   14.],\n",
       "         [  37.,   37.,   37., ...,  179.,  182.,    5.],\n",
       "         [  38.,   38.,   38., ...,  167.,  171.,   12.],\n",
       "         ..., \n",
       "         [   6.,    6.,    6., ...,   21.,   16.,   15.],\n",
       "         [   6.,    6.,    6., ...,   25.,   16.,   19.],\n",
       "         [   6.,    6.,    6., ...,   30.,   16.,   22.]],\n",
       "\n",
       "        [[  48.,   48.,   48., ...,  252.,  206.,   23.],\n",
       "         [  48.,   48.,   48., ...,  239.,  226.,   17.],\n",
       "         [  46.,   46.,   46., ...,  243.,  223.,   31.],\n",
       "         ..., \n",
       "         [   7.,    7.,    7., ...,   21.,   14.,   11.],\n",
       "         [   7.,    7.,    7., ...,   25.,   12.,   13.],\n",
       "         [   7.,    7.,    7., ...,   29.,   11.,   13.]],\n",
       "\n",
       "        [[  32.,   32.,   32., ...,  255.,  210.,   22.],\n",
       "         [  32.,   32.,   32., ...,  240.,  227.,   15.],\n",
       "         [  31.,   31.,   31., ...,  241.,  219.,   25.],\n",
       "         ..., \n",
       "         [   2.,    2.,    2., ...,   23.,   15.,   10.],\n",
       "         [   2.,    2.,    2., ...,   27.,   13.,   15.],\n",
       "         [   2.,    2.,    2., ...,   34.,   15.,   16.]]],\n",
       "\n",
       "\n",
       "       [[[  28.,   28.,   28., ...,  238.,  159.,   11.],\n",
       "         [  28.,   28.,   28., ...,  217.,  160.,   11.],\n",
       "         [  28.,   28.,   28., ...,  192.,  133.,   11.],\n",
       "         ..., \n",
       "         [   6.,    6.,    6., ...,   15.,   15.,   17.],\n",
       "         [   6.,    6.,    6., ...,   24.,   16.,   18.],\n",
       "         [   6.,    6.,    6., ...,   24.,   15.,   18.]],\n",
       "\n",
       "        [[  36.,   36.,   36., ...,  255.,  177.,   17.],\n",
       "         [  36.,   36.,   36., ...,  253.,  189.,   23.],\n",
       "         [  36.,   36.,   36., ...,  252.,  175.,   30.],\n",
       "         ..., \n",
       "         [   7.,    7.,    7., ...,   16.,   14.,   13.],\n",
       "         [   7.,    7.,    7., ...,   25.,   15.,   14.],\n",
       "         [   7.,    7.,    7., ...,   28.,   15.,   14.]],\n",
       "\n",
       "        [[  21.,   21.,   21., ...,  255.,  177.,   15.],\n",
       "         [  21.,   21.,   21., ...,  253.,  185.,   19.],\n",
       "         [  21.,   21.,   21., ...,  250.,  171.,   24.],\n",
       "         ..., \n",
       "         [   2.,    2.,    2., ...,   18.,   12.,   10.],\n",
       "         [   2.,    2.,    2., ...,   27.,   13.,   11.],\n",
       "         [   2.,    2.,    2., ...,   31.,   15.,   11.]]],\n",
       "\n",
       "\n",
       "       [[[  22.,   22.,   22., ...,  163.,  198.,  183.],\n",
       "         [  22.,   22.,   22., ...,   89.,   65.,    9.],\n",
       "         [  21.,   21.,   21., ...,  151.,   50.,    0.],\n",
       "         ..., \n",
       "         [   5.,    5.,    5., ...,    9.,   10.,   18.],\n",
       "         [   5.,    5.,    5., ...,    9.,   10.,   15.],\n",
       "         [   5.,    5.,    5., ...,    9.,   12.,    9.]],\n",
       "\n",
       "        [[  29.,   29.,   29., ...,  202.,  255.,  254.],\n",
       "         [  29.,   29.,   29., ...,  124.,  107.,   53.],\n",
       "         [  28.,   28.,   28., ...,  181.,   71.,   12.],\n",
       "         ..., \n",
       "         [   6.,    6.,    6., ...,    8.,    9.,   17.],\n",
       "         [   6.,    6.,    6., ...,    8.,    9.,   14.],\n",
       "         [   6.,    6.,    6., ...,    8.,   11.,    8.]],\n",
       "\n",
       "        [[  21.,   21.,   21., ...,  158.,  213.,  222.],\n",
       "         [  21.,   21.,   21., ...,   82.,   69.,   28.],\n",
       "         [  20.,   20.,   20., ...,  143.,   40.,    0.],\n",
       "         ..., \n",
       "         [   1.,    1.,    1., ...,    6.,    7.,   15.],\n",
       "         [   1.,    1.,    1., ...,    6.,    7.,   12.],\n",
       "         [   1.,    1.,    1., ...,    6.,    9.,    6.]]]], dtype=float32)"
      ]
     },
     "execution_count": 5,
     "metadata": {},
     "output_type": "execute_result"
    }
   ],
   "source": [
    "batches = vgg.get_batches(train_path, batch_size=batch_size)\n",
    "val_batches = vgg.get_batches(valid_path, batch_size=batch_size*2)"
   ]
  },
  {
   "cell_type": "code",
   "execution_count": null,
   "metadata": {
    "collapsed": true
   },
   "outputs": [],
   "source": []
  }
 ],
 "metadata": {
  "kernelspec": {
   "display_name": "Python [Root]",
   "language": "python",
   "name": "Python [Root]"
  },
  "language_info": {
   "codemirror_mode": {
    "name": "ipython",
    "version": 2
   },
   "file_extension": ".py",
   "mimetype": "text/x-python",
   "name": "python",
   "nbconvert_exporter": "python",
   "pygments_lexer": "ipython2",
   "version": "2.7.12"
  }
 },
 "nbformat": 4,
 "nbformat_minor": 0
}
