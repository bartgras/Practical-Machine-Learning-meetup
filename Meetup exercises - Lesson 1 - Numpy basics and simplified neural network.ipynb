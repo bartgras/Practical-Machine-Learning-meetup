{
 "cells": [
  {
   "cell_type": "markdown",
   "metadata": {},
   "source": [
    "### Jupyter notebook navigation and shortcuts\n",
    "\n",
    "Before we start, few tricks to faster move around in notebook:\n",
    "\n",
    "* Edit and Command/Navigate modes - (click on cell / ESC / UP and DOWN arrows)\n",
    "\n",
    "* Execute - CTRL + RETURN\n",
    "\n",
    "* Execute and move to next cell - SHIFT + RETURN\n",
    "\n",
    "* (navigate mode) Create cell below - key: b\n",
    "\n",
    "* (navigate mode) Create cell above - key: a\n",
    "\n",
    "* Help - h"
   ]
  },
  {
   "cell_type": "code",
   "execution_count": null,
   "metadata": {
    "collapsed": true
   },
   "outputs": [],
   "source": [
    "import numpy as np"
   ]
  },
  {
   "cell_type": "markdown",
   "metadata": {},
   "source": [
    "## Vector"
   ]
  },
  {
   "cell_type": "code",
   "execution_count": null,
   "metadata": {
    "collapsed": false
   },
   "outputs": [],
   "source": [
    "x = np.array([.3, .5, .6])"
   ]
  },
  {
   "cell_type": "code",
   "execution_count": null,
   "metadata": {
    "collapsed": false
   },
   "outputs": [],
   "source": [
    "x = np.matrix(\".3 .5 .6\")"
   ]
  },
  {
   "cell_type": "code",
   "execution_count": null,
   "metadata": {
    "collapsed": false
   },
   "outputs": [],
   "source": [
    "# transposition\n",
    "x.T"
   ]
  },
  {
   "cell_type": "markdown",
   "metadata": {},
   "source": [
    "## Matrix"
   ]
  },
  {
   "cell_type": "code",
   "execution_count": null,
   "metadata": {
    "collapsed": false
   },
   "outputs": [],
   "source": [
    "X = np.array([[.32, .56, .63], [.26, .13, .97]])"
   ]
  },
  {
   "cell_type": "code",
   "execution_count": null,
   "metadata": {
    "collapsed": false
   },
   "outputs": [],
   "source": [
    "X = np.matrix(\".32, .56, .63 ; .26, .13, .97\")"
   ]
  },
  {
   "cell_type": "markdown",
   "metadata": {},
   "source": [
    "### Command completion and inbuilt documentation"
   ]
  },
  {
   "cell_type": "code",
   "execution_count": null,
   "metadata": {
    "collapsed": true
   },
   "outputs": [],
   "source": [
    "# exercise: play with command completion in jupyter notebook using TAB\n",
    "X.a\n",
    "\n",
    "# exercise: get familiar with in-built documentation - SHIFT + TAB\n"
   ]
  },
  {
   "cell_type": "markdown",
   "metadata": {},
   "source": [
    "### Numpy basic matrix operations"
   ]
  },
  {
   "cell_type": "code",
   "execution_count": null,
   "metadata": {
    "collapsed": false
   },
   "outputs": [],
   "source": [
    "# First let's have a look how we would multiply by 10 all \n",
    "# elements of the standard Python array\n",
    "python_array = [1, 2, 3]\n",
    "for i, array_element in enumerate(python_array):\n",
    "    python_array[i] = array_element * 10\n",
    "python_array\n",
    "# or more Pythonic way: \n",
    "#[i * 10 for i in python_array]"
   ]
  },
  {
   "cell_type": "markdown",
   "metadata": {},
   "source": [
    "In Numpy and Pandas it's much simpler:"
   ]
  },
  {
   "cell_type": "code",
   "execution_count": null,
   "metadata": {
    "collapsed": false
   },
   "outputs": [],
   "source": [
    "# exercises:\n",
    "# 1. multiply all matrix elements by 10\n",
    "\n",
    "# 2. divide all matrix elements by 2\n",
    "\n",
    "# 3. multiply all matrix elements by 10 and change to integers\n",
    "# there are 2 way to do that (change type and round)\n",
    "\n",
    "# 4. reverse all values of matrix (e.g. change 2 to -2)\n"
   ]
  },
  {
   "cell_type": "markdown",
   "metadata": {},
   "source": [
    "### Shape and reshaping\n",
    "\n",
    "* shape - how we check shape\n",
    "\n",
    "* 2-dimensional arrays - which dimension is which"
   ]
  },
  {
   "cell_type": "code",
   "execution_count": null,
   "metadata": {
    "collapsed": true
   },
   "outputs": [],
   "source": [
    "# command completion in jupyter notebook using TAB\n",
    "X.s\n",
    "\n",
    "# documentation - SHIFT + TAB\n"
   ]
  },
  {
   "cell_type": "code",
   "execution_count": null,
   "metadata": {
    "collapsed": false
   },
   "outputs": [],
   "source": [
    "# exercise: \n",
    "# Use matrix X and:\n",
    "# 1.  transpose matrix X\n",
    "\n",
    "# 2.  use check matrix shape (property .shape) \n",
    "\n",
    "# 3.  use function .reshape() and change matrix X shapes:\n",
    "# 3a. shape [1, 6] (there are 3 ways you can do it)\n",
    "\n",
    "# 3b. shape [6, 1]\n",
    "\n",
    "# 3c. shape [3, 2]\n",
    "\n",
    "# 4. create new array Z of similar shape to X and:\n",
    "\n",
    "# 4a. add X to Z\n",
    "\n",
    "# 4b. add Z to X\n",
    "\n",
    "# 4c. subtract Z from X \n",
    "\n",
    "# 4d. reshape X and try to add or subtract from Z"
   ]
  },
  {
   "cell_type": "markdown",
   "metadata": {},
   "source": [
    "### Matrix types\n",
    "\n",
    "examples: np.bool | np.int32 | np.float32"
   ]
  },
  {
   "cell_type": "code",
   "execution_count": null,
   "metadata": {
    "collapsed": true
   },
   "outputs": [],
   "source": [
    "# exercises:\n",
    "# 1. create matrix with random INTEGER numbers ranging from 1 to 100 \n",
    "# (try to use function.astype() in this exercise)\n",
    "\n",
    "# 2. create new matrix with:\n",
    "# - numbers ranging from 10 to 20, \n",
    "# - shape [2, 5]\n",
    "# - values should have type int32\n"
   ]
  },
  {
   "cell_type": "markdown",
   "metadata": {},
   "source": [
    "### 3-dimensional arrays"
   ]
  },
  {
   "cell_type": "code",
   "execution_count": null,
   "metadata": {
    "collapsed": false
   },
   "outputs": [],
   "source": [
    "# exercise:\n",
    "# 1. create 3 dimensional array with dimensions [5, 4, 3]\n",
    "\n",
    "# 2. reshape it to 2-dimensional matrix by flattening\n",
    "#    second and third dimention so that your new \n",
    "#    shape is [5, 12]\n",
    "#    (there are 2 ways to do that, can you do both?)\n"
   ]
  },
  {
   "cell_type": "markdown",
   "metadata": {},
   "source": [
    "### Usefull matrix functions"
   ]
  },
  {
   "cell_type": "code",
   "execution_count": null,
   "metadata": {
    "collapsed": true
   },
   "outputs": [],
   "source": [
    "np.zeros()\n",
    "\n",
    "np.zeros_like()\n",
    "\n",
    "np.ones()\n",
    "\n",
    "np.ones_like()\n",
    "\n",
    "np.arange(12.0).reshape((4, 3))\n",
    "\n",
    "np.random.rand() \n",
    "# exercise:\n",
    "# 1. create matrix with random values with:\n",
    "# 1a. shape [10, 5]\n",
    "# (notice what values it contains)\n",
    "\n",
    "# 1b. shape [3, 4, 6]\n",
    "\n",
    "np.sum()\n",
    "# exercise:\n",
    "# 1. sum all elements in matrix\n",
    "\n",
    "# 2. sum X over first axis\n",
    "\n",
    "# 3. sum X over second axis\n",
    "\n",
    "np.mean()\n",
    "# exercise:\n",
    "# 1. find mean of all elements in matrix\n",
    "\n",
    "# 2. mean of X over first axis\n",
    "\n",
    "# 3. mean of X over second axis\n",
    "\n",
    "np.concatenate()\n",
    "# exercises:\n",
    "# 1. add matrix to matrix in first axis\n",
    "\n",
    "# 2. add matrix to matrix in second axis\n",
    "\n",
    "# 3. add \n",
    "\n",
    "np.argmax()\n",
    "# exercises:\n",
    "# 1. find indexes with highest value in first axis\n",
    "\n",
    "# 2. find indexes with highest value in second axis\n",
    "\n",
    "np.nan_to_num()\n",
    "# exercises:\n",
    "# 1. given matrix A\n",
    "# A = np.array([3, np.NaN, 6])\n",
    "# remove Nan values"
   ]
  },
  {
   "cell_type": "markdown",
   "metadata": {},
   "source": [
    "## Matrix slicing"
   ]
  },
  {
   "cell_type": "code",
   "execution_count": null,
   "metadata": {
    "collapsed": false
   },
   "outputs": [],
   "source": [
    "# exercises:\n",
    "# 1. create matrix B with shape [5, 10]\n",
    "B = \n",
    "# 2. remove first row from matrix B\n",
    "\n",
    "# 3. remove column row from matrix B\n",
    "\n",
    "# 4. remove last columm from matrix B\n",
    "\n",
    "# 5. keep all rows and only columns ranging from 3 to 7\n",
    "\n",
    "# 6. Remove from matrix B:\n",
    "# - first and last row from 1st dimension and\n",
    "# - first and last column from 1st dimension\n",
    "\n",
    "# 6. create 3-dimensional matrix [3, 5, 10] and get last 'time' slice (first dimension)\n"
   ]
  },
  {
   "cell_type": "markdown",
   "metadata": {},
   "source": [
    "## Vector-vector, matrix-vector and matrix-matrix multiplication"
   ]
  },
  {
   "cell_type": "markdown",
   "metadata": {},
   "source": [
    "#### vector - vector"
   ]
  },
  {
   "cell_type": "code",
   "execution_count": null,
   "metadata": {
    "collapsed": false
   },
   "outputs": [],
   "source": [
    "x = np.mat('1 2 3')\n",
    "y = np.mat('3 4 5')\n",
    "x*y.T"
   ]
  },
  {
   "cell_type": "code",
   "execution_count": null,
   "metadata": {
    "collapsed": false
   },
   "outputs": [],
   "source": [
    "# element-wise multiplication\n",
    "x = np.mat('1 2 3')\n",
    "y = np.mat('3 4 5')\n",
    "np.multiply(x,y)"
   ]
  },
  {
   "cell_type": "markdown",
   "metadata": {},
   "source": [
    "#### matrix - vector"
   ]
  },
  {
   "cell_type": "code",
   "execution_count": null,
   "metadata": {
    "collapsed": false
   },
   "outputs": [],
   "source": [
    "i = np.array([1, 2, 3])\n",
    "X = np.array([[1, 1, 1, 1],\n",
    "              [2, 2, 2, 2],\n",
    "              [3, 3, 3, 3]])\n",
    "np.matmul(i, X)"
   ]
  },
  {
   "cell_type": "markdown",
   "metadata": {},
   "source": [
    "#### matrix - matrix (batches)"
   ]
  },
  {
   "cell_type": "code",
   "execution_count": null,
   "metadata": {
    "collapsed": false
   },
   "outputs": [],
   "source": [
    "X = np.array([[1, 1, 1],\n",
    "              [2, 2, 2],\n",
    "              [3, 3, 3]])\n",
    "Y = np.array([[1, 1, 1, 1],\n",
    "              [2, 2, 2, 2],\n",
    "              [3, 3, 3, 3]])\n",
    "np.matmul(X, Y)"
   ]
  },
  {
   "cell_type": "code",
   "execution_count": null,
   "metadata": {
    "collapsed": false
   },
   "outputs": [],
   "source": [
    "X = np.arange(10).reshape(2, 5)\n",
    "Y = np.arange(15).reshape(5, 3)\n",
    "np.matmul(X, Y)"
   ]
  },
  {
   "cell_type": "markdown",
   "metadata": {},
   "source": [
    "## Softmax and Sigmoid"
   ]
  },
  {
   "cell_type": "code",
   "execution_count": null,
   "metadata": {
    "collapsed": true
   },
   "outputs": [],
   "source": [
    "def sigmoid(x):\n",
    "    return(1 / (1 + np.exp(-x)))\n",
    "\n",
    "def softmax(x):\n",
    "    e_x = np.exp(x - np.max(x))\n",
    "    return e_x / e_x.sum()"
   ]
  },
  {
   "cell_type": "code",
   "execution_count": null,
   "metadata": {
    "collapsed": true
   },
   "outputs": [],
   "source": [
    "import matplotlib.pyplot as plt\n",
    "%matplotlib inline"
   ]
  },
  {
   "cell_type": "code",
   "execution_count": null,
   "metadata": {
    "collapsed": false
   },
   "outputs": [],
   "source": [
    "W = np.array([.5, .3, .2, .4, .7, 1.5])"
   ]
  },
  {
   "cell_type": "code",
   "execution_count": null,
   "metadata": {
    "collapsed": false
   },
   "outputs": [],
   "source": [
    "plt.plot(W)\n",
    "plt.plot(sigmoid(W))"
   ]
  },
  {
   "cell_type": "code",
   "execution_count": null,
   "metadata": {
    "collapsed": false
   },
   "outputs": [],
   "source": [
    "plt.plot(W)\n",
    "plt.plot(softmax(W))"
   ]
  },
  {
   "cell_type": "code",
   "execution_count": null,
   "metadata": {
    "collapsed": false
   },
   "outputs": [],
   "source": [
    "print(np.sum(sigmoid(W)))\n",
    "print(np.sum(softmax(W)))"
   ]
  },
  {
   "cell_type": "markdown",
   "metadata": {},
   "source": [
    "### Neural network - forward pass\n",
    "\n",
    "Note: this is simplified forward pass. \n",
    "\n",
    "We're skipping activation functions (we will learn about them soon)"
   ]
  },
  {
   "cell_type": "markdown",
   "metadata": {},
   "source": [
    "#### Example of neural network with 1 hidden layer, using pseudo-math-code:\n",
    "    \n",
    "STEP 1.   **i = input vector**\n",
    "\n",
    "STEP 2.   **layer1 = matrix multiplication of input and weights from 1st layer**\n",
    "\n",
    "STEP 3.   **output_layer = matrix multiplication of layer1 and weights**"
   ]
  },
  {
   "cell_type": "code",
   "execution_count": null,
   "metadata": {
    "collapsed": false
   },
   "outputs": [],
   "source": [
    "# exercise:\n",
    "# - create input vector of length: 10 \n",
    "# - create hidden layer of length: 20\n",
    "# - create hidden layer of length: 30\n",
    "# - create output layer of lenght: 10\n",
    "# (to make it simpler you can initiate input and weights with random values)\n",
    "# \n",
    "# Perform forward-pass through network\n"
   ]
  },
  {
   "cell_type": "markdown",
   "metadata": {},
   "source": [
    "#### Inputting batch of data"
   ]
  },
  {
   "cell_type": "code",
   "execution_count": null,
   "metadata": {
    "collapsed": false
   },
   "outputs": [],
   "source": [
    "# exercise:\n",
    "# modify code from previous exercise by changing single \n",
    "# vector input into batch of inputs (e.g. batch of size 20)"
   ]
  },
  {
   "cell_type": "markdown",
   "metadata": {},
   "source": [
    "#### Biases"
   ]
  },
  {
   "cell_type": "code",
   "execution_count": null,
   "metadata": {
    "collapsed": true
   },
   "outputs": [],
   "source": [
    "# exercise:\n",
    "# modify code from previous example by adding biasses to all layers"
   ]
  },
  {
   "cell_type": "markdown",
   "metadata": {},
   "source": [
    "#### Softmax"
   ]
  },
  {
   "cell_type": "code",
   "execution_count": null,
   "metadata": {
    "collapsed": true
   },
   "outputs": [],
   "source": [
    "# exercise:\n",
    "# modify code from previous example by adding softmax to output layer"
   ]
  },
  {
   "cell_type": "markdown",
   "metadata": {},
   "source": [
    "# Homework :)\n",
    "\n",
    "* ( if you don't have Scikit-learn installed - **conda install sklearn** if you're using anaconda otherwise **pip install sklearn** )\n",
    "\n",
    "* execute code below to load dataset on your computer and explore it"
   ]
  },
  {
   "cell_type": "code",
   "execution_count": null,
   "metadata": {
    "collapsed": false
   },
   "outputs": [],
   "source": [
    "from sklearn.datasets import load_digits\n",
    "digits = load_digits()\n",
    "digits.data.shape"
   ]
  },
  {
   "cell_type": "markdown",
   "metadata": {},
   "source": [
    "#### (Optional) install matplotlit and execute code below to display first image from dataset"
   ]
  },
  {
   "cell_type": "code",
   "execution_count": null,
   "metadata": {
    "collapsed": true
   },
   "outputs": [],
   "source": [
    "import matplotlib.pyplot as plt \n",
    "plt.gray() \n",
    "plt.matshow(digits.images[0]) \n",
    "plt.show()"
   ]
  },
  {
   "cell_type": "markdown",
   "metadata": {},
   "source": [
    "Perform forward pass through network with 2 hidden layers:\n",
    "\n",
    "* layer 1 - size 128 \n",
    "\n",
    "* layer 2 - size 64\n",
    "\n",
    "* output layer: 10 (because 10 digits :) )\n",
    "\n",
    "* output layer should have softmax \n",
    "\n",
    "Use batches of size 32 and pass through your network all digits from dataset\n",
    "\n",
    "Use argmax to print out which digits your network predicted (the output will be gibberish but this is not purpose of this exercise)"
   ]
  }
 ],
 "metadata": {
  "kernelspec": {
   "display_name": "Python 2",
   "language": "python",
   "name": "python2"
  },
  "language_info": {
   "codemirror_mode": {
    "name": "ipython",
    "version": 2
   },
   "file_extension": ".py",
   "mimetype": "text/x-python",
   "name": "python",
   "nbconvert_exporter": "python",
   "pygments_lexer": "ipython2",
   "version": "2.7.13"
  }
 },
 "nbformat": 4,
 "nbformat_minor": 2
}
